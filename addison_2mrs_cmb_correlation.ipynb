{
 "cells": [
  {
   "cell_type": "markdown",
   "id": "6358bbce",
   "metadata": {},
   "source": [
    "This notebook is provided as part of the 2MRSxCMB repository. It contains code to perform calculations from Addison (2024), <i>Does the Correlation between 2MRS Galaxies and the CMB Indicate an Unmodeled CMB Foreground?</i>\n",
    "\n",
    "The paper is accepted for publication by the Astrophysical Journal and is also available on arXiv at https://arxiv.org/abs/2403.10490.\n",
    "\n",
    "The code blocks below do the following:\n",
    "\n",
    "(1) Read in the 2MRS catalog (a copy is provided in the data/ directory, obtained from the 2MRS website http://tdc-www.cfa.harvard.edu/2mrs/) and the Planck SMICA CMB map and mask (available from the Planck Legacy Archive http://pla.esac.esa.int/pla/#maps, click Maps -> CMB maps -> SMICA -> FULL MISSION).\n",
    "\n",
    "(2) Compute the $\\Delta T(\\theta)$ correlation statistic (equation 1 of the paper) between a CMB map and a catalog.\n",
    "\n",
    "(3) Create simulated CMB maps and correlate them with the 2MRS catalogs, as described in section 3 of the paper.\n",
    "\n",
    "(4) Estimate the $\\Delta T(\\theta)$ covariance matrix (between different angular bins) and compute a $\\chi^2$ statistic for the real and simulated maps, against the null hypothesis of zero correlation.\n",
    "\n",
    "Please direct any questions to Graeme Addison (gaddison@jhu.edu)."
   ]
  },
  {
   "cell_type": "markdown",
   "id": "f59cfd45",
   "metadata": {},
   "source": [
    "Import statements"
   ]
  },
  {
   "cell_type": "code",
   "execution_count": null,
   "id": "b9765496",
   "metadata": {},
   "outputs": [],
   "source": [
    "%matplotlib inline\n",
    "import numpy as np\n",
    "import matplotlib.pyplot as plt\n",
    "import scipy as sp\n",
    "from scipy import stats\n",
    "import astropy\n",
    "import astropy.io.fits\n",
    "import healpy as hp\n",
    "import timeit"
   ]
  },
  {
   "cell_type": "markdown",
   "id": "a2470512",
   "metadata": {},
   "source": [
    "Load the 2MRS catalog, CMB map, and mask."
   ]
  },
  {
   "cell_type": "code",
   "execution_count": 2,
   "id": "3de19bad",
   "metadata": {},
   "outputs": [],
   "source": [
    "catalog = astropy.io.fits.open('data/2mrs_1175_done.fits')\n",
    "smica_map = hp.read_map('data/COM_CMB_IQU-smica_2048_R3.00_full.fits', field=0)\n",
    "smica_mask = hp.read_map('data/COM_CMB_IQU-smica_2048_R3.00_full.fits', field=3)"
   ]
  },
  {
   "cell_type": "markdown",
   "id": "fd44d50f",
   "metadata": {},
   "source": [
    "Load theory CMB temperature power spectrum used for generating simulated CMB maps. The spectrum in the file provided was computed using the Planck 2018 best-fit $\\Lambda$CDM parameters from the temperature, polarization, and lensing power spectra."
   ]
  },
  {
   "cell_type": "code",
   "execution_count": 3,
   "id": "1819e7e7",
   "metadata": {},
   "outputs": [],
   "source": [
    "cl_input_cmb = np.genfromtxt('data/dl_cmb_theory_pycamb_plikHM_TTTEEE_lowl_lowE_lensing_lmax3508.txt')[:3509]\n",
    "\n",
    "## Convert from D_ell to C_ell\n",
    "cl_input_cmb[2:3509] *= 2 * np.pi / np.arange(2, 3509) / np.arange(3, 3510)"
   ]
  },
  {
   "cell_type": "markdown",
   "id": "4c84041e",
   "metadata": {},
   "source": [
    "Define functions to perform $\\Delta T(\\theta)$ calculation (equation 1 of the paper)."
   ]
  },
  {
   "cell_type": "code",
   "execution_count": 4,
   "id": "862f6453",
   "metadata": {},
   "outputs": [],
   "source": [
    "## This function computes \\Delta T for each galaxy as a function of radius using healpy.query_disc\n",
    "\n",
    "def get_deltaT_npix(catalog_lon, catalog_lat, theta, sky_map, sky_mask, inclusive=True, submono=False):\n",
    "    \n",
    "    if len(catalog_lon) != len(catalog_lat):\n",
    "        print(\"Mismatched lon/lat input!\")\n",
    "        return -1\n",
    "    \n",
    "    ## Simple monopole estimate and subtraction\n",
    "    if submono == True:\n",
    "        sky_map -= np.mean(sky_map * sky_mask) / np.mean(sky_mask)\n",
    "    \n",
    "    ngal = len(catalog_lon)\n",
    "    ntheta_deltaT = len(theta)\n",
    "    \n",
    "    ## Keep track of how many pixels as a function of radius fall outside sky mask\n",
    "    npix = np.zeros([ngal, ntheta])\n",
    "    \n",
    "    deltaTgal = np.zeros([ntheta, ngal])\n",
    "    \n",
    "    for i in range(ntheta):\n",
    "        for j in range(ngal):\n",
    "            ## Return indices of HEALPix pixels within ring of radius theta[i] from galaxy j\n",
    "            ipix = hp.query_disc(nside, hp.ang2vec(catalog_lon[j], catalog_lat[j], lonlat=True), theta[i], inclusive=inclusive)\n",
    "            npix[j, i] += np.sum(sky_mask[ipix])\n",
    "            deltaTgal[i, j] += np.sum(sky_map[ipix] * sky_mask[ipix])\n",
    "    \n",
    "    return deltaTgal, npix\n",
    "\n",
    "\n",
    "## This function computes the mean and standard deviation in \\delta T(\\theta) across the galaxy sample in annuli by \n",
    "## differencing results for  successive radii computed from get_deltaT_npix, above.\n",
    "\n",
    "def get_deltaT_mean_std_neff(deltaTgal, npix, theta):\n",
    "    ntheta_deltaT = len(theta)\n",
    "    \n",
    "    deltaTgal_annulus = deltaTgal[1:] - deltaTgal[:-1]\n",
    "    npix_annulus = (npix[:, 1:] - npix[:, :-1]).T\n",
    "    \n",
    "    deltaT_mean = np.zeros(ntheta_deltaT-1)\n",
    "    deltaT_std = np.zeros(ntheta_deltaT-1)\n",
    "    ngal_eff = np.zeros(ntheta_deltaT-1)\n",
    "    \n",
    "    for i in range(ntheta_deltaT-1):\n",
    "        \n",
    "        ## Only select galaxies with >0 valid (unmasked) pixels in this annulus\n",
    "        npix_annulus_i = npix_annulus[i]\n",
    "        nonzero_i = np.where(npix_annulus_i > 0)\n",
    "        \n",
    "        deltaT_annulus_i = deltaTgal_annulus[i, nonzero_i]\n",
    "        npix_annulus_i = npix_annulus_i[nonzero_i]\n",
    "        \n",
    "        ngal_eff[i] = len(nonzero_i[0])\n",
    "        \n",
    "        deltaT_mean[i] = np.mean(deltaT_annulus_i / npix_annulus_i)\n",
    "        deltaT_std[i] = np.std(deltaT_annulus_i / npix_annulus_i)\n",
    "    \n",
    "    return deltaT_mean, deltaT_std, ngal_eff"
   ]
  },
  {
   "cell_type": "markdown",
   "id": "aaf998b1",
   "metadata": {},
   "source": [
    "Define HEALPix map resolution and angular bins"
   ]
  },
  {
   "cell_type": "code",
   "execution_count": 5,
   "id": "b5e5cb06",
   "metadata": {},
   "outputs": [],
   "source": [
    "nside = 2048\n",
    "\n",
    "## This defines boundaries of annuli. For ntheta = 20 boundaries there are 20 - 1 = 19 angular bins\n",
    "ntheta = 20\n",
    "\n",
    "## Logarithmically-spaced bins from 0.01 to ~20 degrees. Convert to radians.\n",
    "radius_log = np.logspace(-2, 1.3, ntheta) * np.pi / 180"
   ]
  },
  {
   "cell_type": "markdown",
   "id": "fe2123f3",
   "metadata": {},
   "source": [
    "Select 2MRS galaxy sample based on redshift, morphology type, and/or other catalog fields. See 2MRS readme for more information on the catalog fields including morphological type classification: http://tdc-www.cfa.harvard.edu/2mrs/2mrs_readme.html."
   ]
  },
  {
   "cell_type": "code",
   "execution_count": 6,
   "id": "21becbb9",
   "metadata": {},
   "outputs": [],
   "source": [
    "## Elliptical galaxies, 300<cz<4500, E class (type classification -5)\n",
    "galaxy_sample = np.where((catalog[1].data['V']>300) & (catalog[1].data['V']<4500) & (catalog[1].data['TYPE'].astype('U2') == '-5'))[0]\n",
    "\n",
    "## Late-type spiral galaxies, 300<cz<4500, Sb/Sc/Sd class (type classification 3, 4, 5, 6, 7, and 8)\n",
    "# galaxy_sample = np.concatenate((np.where((catalog[1].data['V']>300) & (catalog[1].data['V']<4500) & (catalog[1].data['TYPE'].astype('U2') == ' 3'))[0], np.where((catalog[1].data['V']>300) & (catalog[1].data['V']<4500) & (catalog[1].data['TYPE'].astype('U2') == ' 4'))[0], np.where((catalog[1].data['V']>300) & (catalog[1].data['V']<4500) & (catalog[1].data['TYPE'].astype('U2') == ' 5'))[0], np.where((catalog[1].data['V']>300) & (catalog[1].data['V']<4500) & (catalog[1].data['TYPE'].astype('U2') == ' 6'))[0], np.where((catalog[1].data['V']>300) & (catalog[1].data['V']<4500) & (catalog[1].data['TYPE'].astype('U2') == ' 7'))[0], np.where((catalog[1].data['V']>300) & (catalog[1].data['V']<4500) & (catalog[1].data['TYPE'].astype('U2') == ' 8'))[0]))"
   ]
  },
  {
   "cell_type": "markdown",
   "id": "00288dfd",
   "metadata": {},
   "source": [
    "Compute $\\Delta T(\\theta)$ for galaxy sample and CMB data map"
   ]
  },
  {
   "cell_type": "code",
   "execution_count": 7,
   "id": "d189558d",
   "metadata": {},
   "outputs": [
    {
     "name": "stdout",
     "output_type": "stream",
     "text": [
      "Time taken  10.736446583999996\n"
     ]
    }
   ],
   "source": [
    "start_time = timeit.default_timer()\n",
    "deltaTgal, npix = get_deltaT_npix(catalog[1].data['GLON'][galaxy_sample], catalog[1].data['GLAT'][galaxy_sample], radius_log, smica_map, smica_mask)\n",
    "deltaT_mean, deltaT_std, deltaT_neff = get_deltaT_mean_std_neff(deltaTgal, npix, radius_log)\n",
    "finish_time = timeit.default_timer()\n",
    "print('Time taken ', finish_time - start_time)"
   ]
  },
  {
   "cell_type": "markdown",
   "id": "c8864596",
   "metadata": {},
   "source": [
    "Compute $\\Delta T(\\theta)$ for galaxy sample and simulated CMB maps. Note that 1000 simulation realizations were used for the results shown in the paper (Figure 2). Depending on the size of the galaxy sample this can take many hours to evaluate. The default here is just to run 10 realizations. Results from the full set of 1000 simulations are provided for the elliptical and spiral samples as .npy files in the data/ directory (see below)."
   ]
  },
  {
   "cell_type": "code",
   "execution_count": 8,
   "id": "e52d0ad1",
   "metadata": {},
   "outputs": [
    {
     "name": "stdout",
     "output_type": "stream",
     "text": [
      "0\n",
      "1\n",
      "2\n",
      "3\n",
      "4\n",
      "5\n",
      "6\n",
      "7\n",
      "8\n",
      "9\n",
      "Time taken  144.704958459\n"
     ]
    }
   ],
   "source": [
    "#nsim = 1000\n",
    "nsim = 10\n",
    "\n",
    "deltaT_mean_simcmb = np.zeros([nsim, ntheta-1])\n",
    "deltaT_std_simcmb = np.zeros([nsim, ntheta-1])\n",
    "deltaT_neff_simcmb = np.zeros([nsim, ntheta-1])\n",
    "\n",
    "## Fix the random number seed for reproducibility\n",
    "np.random.seed(999)\n",
    "\n",
    "## 5' FWHM beam to match SMICA processing\n",
    "beam = hp.gauss_beam(fwhm=np.pi/180/12, lmax=3508)\n",
    "\n",
    "start_time = timeit.default_timer()\n",
    "\n",
    "for i in range(nsim):\n",
    "    print(i)\n",
    "    \n",
    "    ## Generate random CMB map. Include extra (white) small-scale power, see Section 3 of the paper\n",
    "    ## Convert to K for consistency with SMICA map units\n",
    "    map_cmb_sim = 1e-6 * hp.synfast(cl_input_cmb * beam**2 + 1.5e-4, nside=nside)\n",
    "    \n",
    "    deltaTgal_temp, npix_temp = get_deltaT_npix(catalog[1].data['GLON'][galaxy_sample], catalog[1].data['GLAT'][galaxy_sample], radius_log, map_cmb_sim, smica_mask)  # , _submono=True)\n",
    "    deltaT_mean_simcmb[i], deltaT_std_simcmb[i], deltaT_neff_simcmb[i] = get_deltaT_mean_std_neff(deltaTgal_temp, npix_temp, radius_log)\n",
    "\n",
    "finish_time = timeit.default_timer()\n",
    "print('Time taken ', finish_time - start_time)"
   ]
  },
  {
   "cell_type": "markdown",
   "id": "81e53e3d",
   "metadata": {},
   "source": [
    "Load $\\Delta T(\\theta)$ results for all 1000 CMB simulations. Results for both the elliptical and spiral galaxy samples at $300<cz<4500$ are provided in the data/ directory."
   ]
  },
  {
   "cell_type": "code",
   "execution_count": 8,
   "id": "5495614b",
   "metadata": {},
   "outputs": [],
   "source": [
    "nsim = 1000\n",
    "deltaT_mean_simcmb = np.load('data/deltaT_mean_z_300_4500_E_simcmb_fwhm5arcmin_white1p5em4_nsim1000.npy')\n",
    "#deltaT_mean_simcmb = np.load('data/deltaT_mean_z_300_4500_SbScSd_simcmb_fwhm5arcmin_white1p5em4_nsim1000.npy.npy')"
   ]
  },
  {
   "cell_type": "markdown",
   "id": "f6ca0ee3",
   "metadata": {},
   "source": [
    "Plot the $\\Delta T(\\theta)$ results for the real CMB map and simulations, as in Figure 2 of the paper."
   ]
  },
  {
   "cell_type": "code",
   "execution_count": 10,
   "id": "6277e375",
   "metadata": {},
   "outputs": [
    {
     "data": {
      "image/png": "[encoded data removed]",
      "text/plain": [
       "<Figure size 234x180 with 1 Axes>"
      ]
     },
     "metadata": {
      "needs_background": "light"
     },
     "output_type": "display_data"
    }
   ],
   "source": [
    "fig = plt.figure(figsize=(3.25, 2.5))\n",
    "\n",
    "fig.subplots_adjust(left=0.18, right=0.98, top=0.98, hspace=0, bottom=0.1)\n",
    "\n",
    "ax = fig.add_subplot(111)\n",
    "\n",
    "for i in range(nsim):\n",
    "    plt.plot(180 / np.pi * radius_log[1:], 1e6 * deltaT_mean_simcmb[i], lw=0.1, c='gray')\n",
    "\n",
    "plt.plot(180 / np.pi * radius_log[1:], 1e6 * deltaT_mean, c='orange', label=r'elliptical $\\times$ CMB', lw=1.5)  #, alpha=0.1*(i+1))\n",
    "\n",
    "plt.plot(180 / np.pi * radius_log[1:], 1e6 * np.mean(deltaT_mean_simcmb, axis=0), label=r'elliptical $\\times$ CMB sim.', lw=1, c='k')\n",
    "plt.plot(180 / np.pi * radius_log[1:], 1e6 * (np.mean(deltaT_mean_simcmb, axis=0) + np.std(deltaT_mean_simcmb, axis=0)), lw=1, c='k')\n",
    "plt.plot(180 / np.pi * radius_log[1:], 1e6 * (np.mean(deltaT_mean_simcmb, axis=0) - np.std(deltaT_mean_simcmb, axis=0)), lw=1, c='k')\n",
    "plt.plot(180 / np.pi * radius_log[1:], 1e6 * (np.mean(deltaT_mean_simcmb, axis=0) + 2 * np.std(deltaT_mean_simcmb, axis=0)), lw=1, c='k')\n",
    "plt.plot(180 / np.pi * radius_log[1:], 1e6 * (np.mean(deltaT_mean_simcmb, axis=0) - 2 * np.std(deltaT_mean_simcmb, axis=0)), lw=1, c='k')\n",
    "\n",
    "plt.xscale('log')\n",
    "plt.axhline(0, c='k', lw=1)\n",
    "plt.xlim([0.01, 30])\n",
    "\n",
    "plt.ylim([-30, 25])\n",
    "\n",
    "ax.tick_params(which='both', direction='in', top=True, right=True)\n",
    "\n",
    "plt.xlabel(r'$\\theta$ [deg]')\n",
    "plt.ylabel(r'$\\Delta T(\\theta)$ [$\\mu$K]')\n",
    "\n",
    "plt.legend(frameon=False, ncol=1, fontsize=10)\n",
    "\n",
    "plt.show()"
   ]
  },
  {
   "cell_type": "markdown",
   "id": "75f15afd",
   "metadata": {},
   "source": [
    "Estimate the $\\Delta T(\\theta)$ covariance matrix using the simulations, then compute a $\\chi^2$ statistic for each realization plus the real CMB map. See Section 3 and Table 1 of the paper."
   ]
  },
  {
   "cell_type": "code",
   "execution_count": 11,
   "id": "e2340975",
   "metadata": {},
   "outputs": [
    {
     "name": "stdout",
     "output_type": "stream",
     "text": [
      "PTE:  0.434\n",
      "Equivalent Gaussian N-sigma:  0.16619944017035887\n"
     ]
    }
   ],
   "source": [
    "cov = np.cov(deltaT_mean_simcmb.T)\n",
    "\n",
    "## Restrict \\theta range to reproduce values in Table 1; bmin = 6 corresponds to excluding scales below 0.1 degree\n",
    "\n",
    "bmin, bmax = 6, 19\n",
    "\n",
    "## Compute inverse covariance based on the subset of \\theta bins we want to use\n",
    "\n",
    "icov = np.linalg.inv(cov[bmin:bmax][:, bmin:bmax])\n",
    "\n",
    "chi2_sim = np.diag(np.dot(deltaT_mean_simcmb[:, bmin:bmax], np.dot(icov, deltaT_mean_simcmb[:, bmin:bmax].T)))\n",
    "chi2_data = np.dot(deltaT_mean[bmin:bmax], np.dot(icov, deltaT_mean[bmin:bmax]))\n",
    "\n",
    "## Estimate PTE (probability to exceed) based on how many simulation realizations have higher \\chi^2\n",
    "\n",
    "pte = np.sum(chi2_sim > chi2_data) / nsim\n",
    "\n",
    "## Equivalent Gaussian \"N\\sigma\"\n",
    "\n",
    "gaussian_nsigma = sp.stats.norm.isf(pte)\n",
    "\n",
    "print('PTE: ', pte)\n",
    "print('Equivalent Gaussian N-sigma: ', gaussian_nsigma)"
   ]
  },
  {
   "cell_type": "code",
   "execution_count": null,
   "id": "ee6c1c6b",
   "metadata": {},
   "outputs": [],
   "source": []
  }
 ],
 "metadata": {
  "kernelspec": {
   "display_name": "Python 3 (ipykernel)",
   "language": "python",
   "name": "python3"
  },
  "language_info": {
   "codemirror_mode": {
    "name": "ipython",
    "version": 3
   },
   "file_extension": ".py",
   "mimetype": "text/x-python",
   "name": "python",
   "nbconvert_exporter": "python",
   "pygments_lexer": "ipython3",
   "version": "3.9.12"
  }
 },
 "nbformat": 4,
 "nbformat_minor": 5
}
